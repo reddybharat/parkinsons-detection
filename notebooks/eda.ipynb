{
 "cells": [
  {
   "cell_type": "code",
   "execution_count": 54,
   "id": "72501938",
   "metadata": {},
   "outputs": [],
   "source": [
    "import os\n",
    "from collections import defaultdict\n",
    "from IPython.display import display\n",
    "import pandas as pd\n"
   ]
  },
  {
   "cell_type": "code",
   "execution_count": 55,
   "id": "4c6a6a75",
   "metadata": {},
   "outputs": [],
   "source": [
    "image_exts = ('.png', '.jpg', '.jpeg', '.JPG', '.JPEG', '.Jpeg')"
   ]
  },
  {
   "cell_type": "markdown",
   "id": "308624a3",
   "metadata": {},
   "source": [
    "The datasets are already well maintained and seperated into different folders based on the shape, label and also divided for training and testing.\n",
    "\n",
    "If we want we can change that, and use custom train test splitting for our purpose."
   ]
  },
  {
   "cell_type": "markdown",
   "id": "e0b8dba0",
   "metadata": {},
   "source": [
    "# DATASET 1\n",
    "\n",
    "### This dataset is a combination of Spiral and Wave shapes."
   ]
  },
  {
   "cell_type": "code",
   "execution_count": 56,
   "id": "e18ca45e",
   "metadata": {},
   "outputs": [
    {
     "data": {
      "text/html": [
       "<div>\n",
       "<style scoped>\n",
       "    .dataframe tbody tr th:only-of-type {\n",
       "        vertical-align: middle;\n",
       "    }\n",
       "\n",
       "    .dataframe tbody tr th {\n",
       "        vertical-align: top;\n",
       "    }\n",
       "\n",
       "    .dataframe thead th {\n",
       "        text-align: right;\n",
       "    }\n",
       "</style>\n",
       "<table border=\"1\" class=\"dataframe\">\n",
       "  <thead>\n",
       "    <tr style=\"text-align: right;\">\n",
       "      <th></th>\n",
       "      <th>Shape</th>\n",
       "      <th>Healthy</th>\n",
       "      <th>Parkinson</th>\n",
       "      <th>Total</th>\n",
       "    </tr>\n",
       "  </thead>\n",
       "  <tbody>\n",
       "    <tr>\n",
       "      <th>0</th>\n",
       "      <td>spiral</td>\n",
       "      <td>51</td>\n",
       "      <td>51</td>\n",
       "      <td>102</td>\n",
       "    </tr>\n",
       "    <tr>\n",
       "      <th>1</th>\n",
       "      <td>sw</td>\n",
       "      <td>102</td>\n",
       "      <td>102</td>\n",
       "      <td>204</td>\n",
       "    </tr>\n",
       "    <tr>\n",
       "      <th>2</th>\n",
       "      <td>wave</td>\n",
       "      <td>51</td>\n",
       "      <td>51</td>\n",
       "      <td>102</td>\n",
       "    </tr>\n",
       "  </tbody>\n",
       "</table>\n",
       "</div>"
      ],
      "text/plain": [
       "    Shape  Healthy  Parkinson  Total\n",
       "0  spiral       51         51    102\n",
       "1      sw      102        102    204\n",
       "2    wave       51         51    102"
      ]
     },
     "metadata": {},
     "output_type": "display_data"
    },
    {
     "name": "stdout",
     "output_type": "stream",
     "text": [
      "Total: Healthy = 204, Parkinson = 204\n"
     ]
    }
   ],
   "source": [
    "root_dir_d1 = \"../data/raw/dataset_1\"\n",
    "counts_d1 = defaultdict(lambda: {'healthy': 0, 'parkinson': 0})\n",
    "\n",
    "for shape in os.listdir(root_dir_d1):\n",
    "    shape_path = os.path.join(root_dir_d1, shape)\n",
    "    if not os.path.isdir(shape_path):\n",
    "        continue\n",
    "    for split in ['training', 'testing']:\n",
    "        split_path = os.path.join(shape_path, split)\n",
    "        if not os.path.isdir(split_path):\n",
    "            continue\n",
    "        for label in ['healthy', 'parkinson']:\n",
    "            label_path = os.path.join(split_path, label)\n",
    "            if not os.path.isdir(label_path):\n",
    "                continue\n",
    "            num_images = len([f for f in os.listdir(label_path) if f.endswith(image_exts)])\n",
    "            counts_d1[shape][label] += num_images\n",
    "\n",
    "# Convert to DataFrame for a nice display\n",
    "df_d1 = pd.DataFrame.from_dict(counts_d1, orient='index')\n",
    "df_d1 = df_d1.reset_index().rename(columns={'index': 'Shape', 'healthy': 'Healthy', 'parkinson': 'Parkinson'})\n",
    "df_d1['Total'] = df_d1['Healthy'] + df_d1['Parkinson']\n",
    "\n",
    "display(df_d1)\n",
    "\n",
    "# Optionally, print the total row\n",
    "total_healthy = df_d1['Healthy'].sum()\n",
    "total_parkinson = df_d1['Parkinson'].sum()\n",
    "print(f\"Total: Healthy = {total_healthy}, Parkinson = {total_parkinson}\")"
   ]
  },
  {
   "cell_type": "markdown",
   "id": "902daf59",
   "metadata": {},
   "source": [
    "# DATASET 2\n",
    "\n",
    "### This dataset is a combination of Cube, Spiral and Triangle shapes."
   ]
  },
  {
   "cell_type": "code",
   "execution_count": 57,
   "id": "4316670e",
   "metadata": {},
   "outputs": [
    {
     "data": {
      "text/html": [
       "<div>\n",
       "<style scoped>\n",
       "    .dataframe tbody tr th:only-of-type {\n",
       "        vertical-align: middle;\n",
       "    }\n",
       "\n",
       "    .dataframe tbody tr th {\n",
       "        vertical-align: top;\n",
       "    }\n",
       "\n",
       "    .dataframe thead th {\n",
       "        text-align: right;\n",
       "    }\n",
       "</style>\n",
       "<table border=\"1\" class=\"dataframe\">\n",
       "  <thead>\n",
       "    <tr style=\"text-align: right;\">\n",
       "      <th></th>\n",
       "      <th>Shape</th>\n",
       "      <th>Healthy</th>\n",
       "      <th>Parkinson</th>\n",
       "      <th>Total</th>\n",
       "    </tr>\n",
       "  </thead>\n",
       "  <tbody>\n",
       "    <tr>\n",
       "      <th>0</th>\n",
       "      <td>cst</td>\n",
       "      <td>72</td>\n",
       "      <td>174</td>\n",
       "      <td>246</td>\n",
       "    </tr>\n",
       "    <tr>\n",
       "      <th>1</th>\n",
       "      <td>cube</td>\n",
       "      <td>24</td>\n",
       "      <td>54</td>\n",
       "      <td>78</td>\n",
       "    </tr>\n",
       "    <tr>\n",
       "      <th>2</th>\n",
       "      <td>spiral</td>\n",
       "      <td>24</td>\n",
       "      <td>60</td>\n",
       "      <td>84</td>\n",
       "    </tr>\n",
       "    <tr>\n",
       "      <th>3</th>\n",
       "      <td>triangle</td>\n",
       "      <td>24</td>\n",
       "      <td>60</td>\n",
       "      <td>84</td>\n",
       "    </tr>\n",
       "  </tbody>\n",
       "</table>\n",
       "</div>"
      ],
      "text/plain": [
       "      Shape  Healthy  Parkinson  Total\n",
       "0       cst       72        174    246\n",
       "1      cube       24         54     78\n",
       "2    spiral       24         60     84\n",
       "3  triangle       24         60     84"
      ]
     },
     "metadata": {},
     "output_type": "display_data"
    },
    {
     "name": "stdout",
     "output_type": "stream",
     "text": [
      "Total: Healthy = 144, Parkinson = 348\n"
     ]
    }
   ],
   "source": [
    "root_dir_d2 = \"../data/raw/dataset_2\"\n",
    "counts_d2 = defaultdict(lambda: {'healthy': 0, 'parkinson': 0})\n",
    "\n",
    "for shape in os.listdir(root_dir_d2):\n",
    "    shape_path = os.path.join(root_dir_d2, shape)\n",
    "    if not os.path.isdir(shape_path):\n",
    "        continue\n",
    "    for split in ['training', 'testing']:\n",
    "        split_path = os.path.join(shape_path, split)\n",
    "        if not os.path.isdir(split_path):\n",
    "            continue\n",
    "        for label in ['healthy', 'parkinson']:\n",
    "            label_path = os.path.join(split_path, label)\n",
    "            if not os.path.isdir(label_path):\n",
    "                continue\n",
    "            num_images = len([f for f in os.listdir(label_path) if f.endswith(image_exts)])\n",
    "            counts_d2[shape][label] += num_images\n",
    "\n",
    "# Convert to DataFrame for a nice display\n",
    "df_d2 = pd.DataFrame.from_dict(counts_d2, orient='index')\n",
    "df_d2 = df_d2.reset_index().rename(columns={'index': 'Shape', 'healthy': 'Healthy', 'parkinson': 'Parkinson'})\n",
    "df_d2['Total'] = df_d2['Healthy'] + df_d2['Parkinson']\n",
    "\n",
    "display(df_d2)\n",
    "\n",
    "# Optionally, print the total row\n",
    "total_healthy = df_d2['Healthy'].sum()\n",
    "total_parkinson = df_d2['Parkinson'].sum()\n",
    "print(f\"Total: Healthy = {total_healthy}, Parkinson = {total_parkinson}\")"
   ]
  },
  {
   "cell_type": "code",
   "execution_count": 58,
   "id": "a581b3b6",
   "metadata": {},
   "outputs": [
    {
     "data": {
      "image/png": "[encoded data removed]",
      "text/plain": [
       "<Figure size 1400x600 with 2 Axes>"
      ]
     },
     "metadata": {},
     "output_type": "display_data"
    }
   ],
   "source": [
    "import matplotlib.pyplot as plt\n",
    "import numpy as np\n",
    "\n",
    "fig, axes = plt.subplots(1, 2, figsize=(14, 6), sharey=True)\n",
    "\n",
    "# Plot for Dataset 1\n",
    "counts = counts_d1\n",
    "shapes = list(counts.keys())\n",
    "healthy_counts = [counts[shape]['healthy'] for shape in shapes]\n",
    "parkinson_counts = [counts[shape]['parkinson'] for shape in shapes]\n",
    "x = np.arange(len(shapes))\n",
    "width = 0.35\n",
    "\n",
    "ax = axes[0]\n",
    "rects1 = ax.bar(x - width/2, healthy_counts, width, label='Healthy', color='#66b3ff')\n",
    "rects2 = ax.bar(x + width/2, parkinson_counts, width, label='Parkinson', color='#ff9999')\n",
    "ax.set_ylabel('Number of Images')\n",
    "ax.set_title('Dataset 1')\n",
    "ax.set_xticks(x)\n",
    "ax.set_xticklabels([shape.capitalize() for shape in shapes])\n",
    "ax.legend()\n",
    "for rects in [rects1, rects2]:\n",
    "    for rect in rects:\n",
    "        height = rect.get_height()\n",
    "        ax.annotate(f'{height}', xy=(rect.get_x() + rect.get_width() / 2, height),\n",
    "                    xytext=(0, 3), textcoords=\"offset points\", ha='center', va='bottom')\n",
    "\n",
    "# Plot for Dataset 2\n",
    "counts = counts_d2\n",
    "shapes = list(counts.keys())\n",
    "healthy_counts = [counts[shape]['healthy'] for shape in shapes]\n",
    "parkinson_counts = [counts[shape]['parkinson'] for shape in shapes]\n",
    "x = np.arange(len(shapes))\n",
    "\n",
    "ax = axes[1]\n",
    "rects1 = ax.bar(x - width/2, healthy_counts, width, label='Healthy', color='#66b3ff')\n",
    "rects2 = ax.bar(x + width/2, parkinson_counts, width, label='Parkinson', color='#ff9999')\n",
    "ax.set_title('Dataset 2')\n",
    "ax.set_xticks(x)\n",
    "ax.set_xticklabels([shape.capitalize() for shape in shapes])\n",
    "for rects in [rects1, rects2]:\n",
    "    for rect in rects:\n",
    "        height = rect.get_height()\n",
    "        ax.annotate(f'{height}', xy=(rect.get_x() + rect.get_width() / 2, height),\n",
    "                    xytext=(0, 3), textcoords=\"offset points\", ha='center', va='bottom')\n",
    "\n",
    "plt.tight_layout()\n",
    "plt.show()"
   ]
  },
  {
   "cell_type": "markdown",
   "id": "8a092fca",
   "metadata": {},
   "source": [
    "### The dataset size is small and also uneven in case of the 2nd dataset, so we are going to opt to use data augmentation to create some more images, by utilizing rotation, random noise, horizontal flipping."
   ]
  },
  {
   "cell_type": "markdown",
   "id": "b9f1351a",
   "metadata": {},
   "source": [
    "# AFTER AUGMENTATION"
   ]
  },
  {
   "cell_type": "code",
   "execution_count": 59,
   "id": "77465c02",
   "metadata": {},
   "outputs": [
    {
     "data": {
      "text/html": [
       "<div>\n",
       "<style scoped>\n",
       "    .dataframe tbody tr th:only-of-type {\n",
       "        vertical-align: middle;\n",
       "    }\n",
       "\n",
       "    .dataframe tbody tr th {\n",
       "        vertical-align: top;\n",
       "    }\n",
       "\n",
       "    .dataframe thead th {\n",
       "        text-align: right;\n",
       "    }\n",
       "</style>\n",
       "<table border=\"1\" class=\"dataframe\">\n",
       "  <thead>\n",
       "    <tr style=\"text-align: right;\">\n",
       "      <th></th>\n",
       "      <th>Shape</th>\n",
       "      <th>Healthy</th>\n",
       "      <th>Parkinson</th>\n",
       "      <th>Total</th>\n",
       "    </tr>\n",
       "  </thead>\n",
       "  <tbody>\n",
       "    <tr>\n",
       "      <th>0</th>\n",
       "      <td>spiral</td>\n",
       "      <td>204</td>\n",
       "      <td>204</td>\n",
       "      <td>408</td>\n",
       "    </tr>\n",
       "    <tr>\n",
       "      <th>1</th>\n",
       "      <td>sw</td>\n",
       "      <td>408</td>\n",
       "      <td>408</td>\n",
       "      <td>816</td>\n",
       "    </tr>\n",
       "    <tr>\n",
       "      <th>2</th>\n",
       "      <td>wave</td>\n",
       "      <td>204</td>\n",
       "      <td>204</td>\n",
       "      <td>408</td>\n",
       "    </tr>\n",
       "  </tbody>\n",
       "</table>\n",
       "</div>"
      ],
      "text/plain": [
       "    Shape  Healthy  Parkinson  Total\n",
       "0  spiral      204        204    408\n",
       "1      sw      408        408    816\n",
       "2    wave      204        204    408"
      ]
     },
     "metadata": {},
     "output_type": "display_data"
    },
    {
     "name": "stdout",
     "output_type": "stream",
     "text": [
      "Total: Healthy = 816, Parkinson = 816\n"
     ]
    }
   ],
   "source": [
    "proc_dir_d1 = \"../data/processed/dataset_1\"\n",
    "counts_d1_aug = defaultdict(lambda: {'healthy': 0, 'parkinson': 0})\n",
    "\n",
    "for shape in os.listdir(proc_dir_d1):\n",
    "    shape_path = os.path.join(proc_dir_d1, shape)\n",
    "    if not os.path.isdir(shape_path):\n",
    "        continue\n",
    "    for split in ['training', 'testing']:\n",
    "        split_path = os.path.join(shape_path, split)\n",
    "        if not os.path.isdir(split_path):\n",
    "            continue\n",
    "        for label in ['healthy', 'parkinson']:\n",
    "            label_path = os.path.join(split_path, label)\n",
    "            if not os.path.isdir(label_path):\n",
    "                continue\n",
    "            num_images = len([f for f in os.listdir(label_path) if f.endswith(image_exts)])\n",
    "            counts_d1_aug[shape][label] += num_images\n",
    "\n",
    "# Convert to DataFrame for a nice display\n",
    "df_d1_aug = pd.DataFrame.from_dict(counts_d1_aug, orient='index')\n",
    "df_d1_aug = df_d1_aug.reset_index().rename(columns={'index': 'Shape', 'healthy': 'Healthy', 'parkinson': 'Parkinson'})\n",
    "df_d1_aug['Total'] = df_d1_aug['Healthy'] + df_d1_aug['Parkinson']\n",
    "\n",
    "display(df_d1_aug)\n",
    "\n",
    "# Optionally, print the total row\n",
    "total_healthy = df_d1_aug['Healthy'].sum()\n",
    "total_parkinson = df_d1_aug['Parkinson'].sum()\n",
    "print(f\"Total: Healthy = {total_healthy}, Parkinson = {total_parkinson}\")"
   ]
  },
  {
   "cell_type": "code",
   "execution_count": 60,
   "id": "859c2c70",
   "metadata": {},
   "outputs": [
    {
     "data": {
      "text/html": [
       "<div>\n",
       "<style scoped>\n",
       "    .dataframe tbody tr th:only-of-type {\n",
       "        vertical-align: middle;\n",
       "    }\n",
       "\n",
       "    .dataframe tbody tr th {\n",
       "        vertical-align: top;\n",
       "    }\n",
       "\n",
       "    .dataframe thead th {\n",
       "        text-align: right;\n",
       "    }\n",
       "</style>\n",
       "<table border=\"1\" class=\"dataframe\">\n",
       "  <thead>\n",
       "    <tr style=\"text-align: right;\">\n",
       "      <th></th>\n",
       "      <th>Shape</th>\n",
       "      <th>Healthy</th>\n",
       "      <th>Parkinson</th>\n",
       "      <th>Total</th>\n",
       "    </tr>\n",
       "  </thead>\n",
       "  <tbody>\n",
       "    <tr>\n",
       "      <th>0</th>\n",
       "      <td>cst</td>\n",
       "      <td>288</td>\n",
       "      <td>696</td>\n",
       "      <td>984</td>\n",
       "    </tr>\n",
       "    <tr>\n",
       "      <th>1</th>\n",
       "      <td>cube</td>\n",
       "      <td>96</td>\n",
       "      <td>216</td>\n",
       "      <td>312</td>\n",
       "    </tr>\n",
       "    <tr>\n",
       "      <th>2</th>\n",
       "      <td>spiral</td>\n",
       "      <td>96</td>\n",
       "      <td>240</td>\n",
       "      <td>336</td>\n",
       "    </tr>\n",
       "    <tr>\n",
       "      <th>3</th>\n",
       "      <td>triangle</td>\n",
       "      <td>96</td>\n",
       "      <td>240</td>\n",
       "      <td>336</td>\n",
       "    </tr>\n",
       "  </tbody>\n",
       "</table>\n",
       "</div>"
      ],
      "text/plain": [
       "      Shape  Healthy  Parkinson  Total\n",
       "0       cst      288        696    984\n",
       "1      cube       96        216    312\n",
       "2    spiral       96        240    336\n",
       "3  triangle       96        240    336"
      ]
     },
     "metadata": {},
     "output_type": "display_data"
    },
    {
     "name": "stdout",
     "output_type": "stream",
     "text": [
      "Total: Healthy = 576, Parkinson = 1392\n"
     ]
    }
   ],
   "source": [
    "proc_dir_d2 = \"../data/processed/dataset_2\"\n",
    "counts_d2_aug = defaultdict(lambda: {'healthy': 0, 'parkinson': 0})\n",
    "\n",
    "for shape in os.listdir(proc_dir_d2):\n",
    "    shape_path = os.path.join(proc_dir_d2, shape)\n",
    "    if not os.path.isdir(shape_path):\n",
    "        continue\n",
    "    for split in ['training', 'testing']:\n",
    "        split_path = os.path.join(shape_path, split)\n",
    "        if not os.path.isdir(split_path):\n",
    "            continue\n",
    "        for label in ['healthy', 'parkinson']:\n",
    "            label_path = os.path.join(split_path, label)\n",
    "            if not os.path.isdir(label_path):\n",
    "                continue\n",
    "            num_images = len([f for f in os.listdir(label_path) if f.endswith(image_exts)])\n",
    "            counts_d2_aug[shape][label] += num_images\n",
    "\n",
    "# Convert to DataFrame for a nice display\n",
    "df_d2_aug = pd.DataFrame.from_dict(counts_d2_aug, orient='index')\n",
    "df_d2_aug = df_d2_aug.reset_index().rename(columns={'index': 'Shape', 'healthy': 'Healthy', 'parkinson': 'Parkinson'})\n",
    "df_d2_aug['Total'] = df_d2_aug['Healthy'] + df_d2_aug['Parkinson']\n",
    "\n",
    "display(df_d2_aug)\n",
    "\n",
    "# Optionally, print the total row\n",
    "total_healthy = df_d2_aug['Healthy'].sum()\n",
    "total_parkinson = df_d2_aug['Parkinson'].sum()\n",
    "print(f\"Total: Healthy = {total_healthy}, Parkinson = {total_parkinson}\")"
   ]
  },
  {
   "cell_type": "code",
   "execution_count": 61,
   "id": "867171c1",
   "metadata": {},
   "outputs": [
    {
     "data": {
      "image/png": "[encoded data removed]",
      "text/plain": [
       "<Figure size 1400x600 with 2 Axes>"
      ]
     },
     "metadata": {},
     "output_type": "display_data"
    }
   ],
   "source": [
    "import matplotlib.pyplot as plt\n",
    "import numpy as np\n",
    "\n",
    "fig, axes = plt.subplots(1, 2, figsize=(14, 6), sharey=True)\n",
    "\n",
    "# Plot for Dataset 1\n",
    "counts = counts_d1_aug\n",
    "shapes = list(counts.keys())\n",
    "healthy_counts = [counts[shape]['healthy'] for shape in shapes]\n",
    "parkinson_counts = [counts[shape]['parkinson'] for shape in shapes]\n",
    "x = np.arange(len(shapes))\n",
    "width = 0.35\n",
    "\n",
    "ax = axes[0]\n",
    "rects1 = ax.bar(x - width/2, healthy_counts, width, label='Healthy', color='#66b3ff')\n",
    "rects2 = ax.bar(x + width/2, parkinson_counts, width, label='Parkinson', color='#ff9999')\n",
    "ax.set_ylabel('Number of Images')\n",
    "ax.set_title('Dataset 1')\n",
    "ax.set_xticks(x)\n",
    "ax.set_xticklabels([shape.capitalize() for shape in shapes])\n",
    "ax.legend()\n",
    "for rects in [rects1, rects2]:\n",
    "    for rect in rects:\n",
    "        height = rect.get_height()\n",
    "        ax.annotate(f'{height}', xy=(rect.get_x() + rect.get_width() / 2, height),\n",
    "                    xytext=(0, 3), textcoords=\"offset points\", ha='center', va='bottom')\n",
    "\n",
    "# Plot for Dataset 2\n",
    "counts = counts_d2_aug\n",
    "shapes = list(counts.keys())\n",
    "healthy_counts = [counts[shape]['healthy'] for shape in shapes]\n",
    "parkinson_counts = [counts[shape]['parkinson'] for shape in shapes]\n",
    "x = np.arange(len(shapes))\n",
    "\n",
    "ax = axes[1]\n",
    "rects1 = ax.bar(x - width/2, healthy_counts, width, label='Healthy', color='#66b3ff')\n",
    "rects2 = ax.bar(x + width/2, parkinson_counts, width, label='Parkinson', color='#ff9999')\n",
    "ax.set_title('Dataset 2')\n",
    "ax.set_xticks(x)\n",
    "ax.set_xticklabels([shape.capitalize() for shape in shapes])\n",
    "for rects in [rects1, rects2]:\n",
    "    for rect in rects:\n",
    "        height = rect.get_height()\n",
    "        ax.annotate(f'{height}', xy=(rect.get_x() + rect.get_width() / 2, height),\n",
    "                    xytext=(0, 3), textcoords=\"offset points\", ha='center', va='bottom')\n",
    "\n",
    "plt.tight_layout()\n",
    "plt.show()"
   ]
  }
 ],
 "metadata": {
  "kernelspec": {
   "display_name": "Python 3",
   "language": "python",
   "name": "python3"
  },
  "language_info": {
   "codemirror_mode": {
    "name": "ipython",
    "version": 3
   },
   "file_extension": ".py",
   "mimetype": "text/x-python",
   "name": "python",
   "nbconvert_exporter": "python",
   "pygments_lexer": "ipython3",
   "version": "3.12.3"
  }
 },
 "nbformat": 4,
 "nbformat_minor": 5
}
